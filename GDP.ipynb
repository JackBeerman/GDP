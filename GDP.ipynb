{
 "cells": [
  {
   "cell_type": "markdown",
   "id": "ee6b031c-e4f9-4630-9b89-32db1163131a",
   "metadata": {},
   "source": [
    "# Project GDP\n",
    "## GitHub Repo: https://github.com/JackBeerman/GDP"
   ]
  },
  {
   "cell_type": "code",
   "execution_count": 3,
   "id": "fe4707cb-d181-416e-b2e6-96fa17fc45aa",
   "metadata": {},
   "outputs": [],
   "source": [
    "import pandas as pd\n",
    "import numpy as np\n",
    "import requests\n",
    "import os\n",
    "import zipfile\n",
    "import io\n",
    "POSTGRES_PASSWORD = os.getenv('POSTGRES_PASSWORD')\n",
    "import psycopg2\n",
    "from sqlalchemy import create_engine"
   ]
  },
  {
   "cell_type": "code",
   "execution_count": 4,
   "id": "a4e31554-4c62-4709-898d-9a1511470c4b",
   "metadata": {},
   "outputs": [],
   "source": [
    "### Goal: Have a dashboard that allows us to select a country, country it trades with, view imports and exports, tarrifs\n",
    "### Goal: predictive analysis of tarrifs and GDP..? too much"
   ]
  },
  {
   "cell_type": "markdown",
   "id": "5dfe831d-824b-4c67-bf2a-faecf928063b",
   "metadata": {},
   "source": [
    "## Data"
   ]
  },
  {
   "cell_type": "markdown",
   "id": "e975c035-ec21-4b3b-9013-5e0810478780",
   "metadata": {},
   "source": [
    "* The World Bank https://data.worldbank.org/\n",
    "* World Integrated Trade Solution https://wits.worldbank.org/\n",
    "* World Trade Organization https://www.wto.org/english/res_e/statis_e/statis_e.htm\n",
    "* Our World in Data https://ourworldindata.org/trade-and-globalization\n",
    "* International Monetary Fund https://data.imf.org/?sk=9d6028d4-f14a-464c-a2f2-59b2cd424b85"
   ]
  },
  {
   "cell_type": "code",
   "execution_count": null,
   "id": "7bbe9035-4060-45ea-acaf-09710f63ec32",
   "metadata": {},
   "outputs": [],
   "source": []
  }
 ],
 "metadata": {
  "kernelspec": {
   "display_name": "Python 3 (ipykernel)",
   "language": "python",
   "name": "python3"
  },
  "language_info": {
   "codemirror_mode": {
    "name": "ipython",
    "version": 3
   },
   "file_extension": ".py",
   "mimetype": "text/x-python",
   "name": "python",
   "nbconvert_exporter": "python",
   "pygments_lexer": "ipython3",
   "version": "3.11.4"
  }
 },
 "nbformat": 4,
 "nbformat_minor": 5
}
