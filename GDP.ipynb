{
 "cells": [
  {
   "cell_type": "markdown",
   "id": "ee6b031c-e4f9-4630-9b89-32db1163131a",
   "metadata": {},
   "source": [
    "# Project GDP\n",
    "## GitHub Repo: https://github.com/JackBeerman/GDP"
   ]
  },
  {
   "cell_type": "code",
   "execution_count": 1,
   "id": "fe4707cb-d181-416e-b2e6-96fa17fc45aa",
   "metadata": {},
   "outputs": [],
   "source": [
    "import pandas as pd\n",
    "import numpy as np\n",
    "import requests\n",
    "import os\n",
    "import zipfile\n",
    "import io\n",
    "POSTGRES_PASSWORD = os.getenv('POSTGRES_PASSWORD')\n",
    "import psycopg2\n",
    "from sqlalchemy import create_engine\n",
    "\n",
    "import dash\n",
    "from dash import dcc\n",
    "from dash import html\n",
    "from dash.dependencies import Input, Output\n",
    "\n",
    "import plotly.figure_factory as ff\n",
    "import plotly.express as px"
   ]
  },
  {
   "cell_type": "code",
   "execution_count": 2,
   "id": "a4e31554-4c62-4709-898d-9a1511470c4b",
   "metadata": {},
   "outputs": [],
   "source": [
    "### Goal: Have a dashboard that allows us to select a country, country it trades with, view imports and exports, tarrifs\n",
    "### Goal: predictive analysis of tarrifs and GDP..? too much"
   ]
  },
  {
   "cell_type": "markdown",
   "id": "5dfe831d-824b-4c67-bf2a-faecf928063b",
   "metadata": {},
   "source": [
    "## Data"
   ]
  },
  {
   "cell_type": "markdown",
   "id": "e975c035-ec21-4b3b-9013-5e0810478780",
   "metadata": {},
   "source": [
    "* The World Bank https://data.worldbank.org/\n",
    "* World Integrated Trade Solution https://wits.worldbank.org/\n",
    "* World Trade Organization https://www.wto.org/english/res_e/statis_e/statis_e.htm\n",
    "* Our World in Data https://ourworldindata.org/trade-and-globalization\n",
    "* International Monetary Fund https://data.imf.org/?sk=9d6028d4-f14a-464c-a2f2-59b2cd424b85\n",
    "* Human Development Reports https://hdr.undp.org/"
   ]
  },
  {
   "cell_type": "markdown",
   "id": "66043720-20d3-4a99-8a0d-9159c196a9fa",
   "metadata": {},
   "source": [
    "## Preprocess World Bank"
   ]
  },
  {
   "cell_type": "code",
   "execution_count": 3,
   "id": "2e9ecedc-4e06-40d6-8075-7722edf27ff0",
   "metadata": {},
   "outputs": [],
   "source": [
    "noncountries = [\"Arab World\", \"Central Europe and the Baltics\",\n",
    "\"Caribbean small states\",\n",
    "\"East Asia & Pacific (excluding high income)\",\n",
    "\"Early-demographic dividend\",\"East Asia & Pacific\",\n",
    "\"Europe & Central Asia (excluding high income)\",\n",
    "\"Europe & Central Asia\", \"Euro area\",\n",
    "\"European Union\",\"Fragile and conflict affected situations\",\n",
    "\"High income\",\n",
    "\"Heavily indebted poor countries (HIPC)\",\"IBRD only\",\n",
    "\"IDA & IBRD total\",\n",
    "\"IDA total\",\"IDA blend\",\"IDA only\",\n",
    "\"Latin America & Caribbean (excluding high income)\",\n",
    "\"Latin America & Caribbean\",\n",
    "\"Least developed countries: UN classification\",\n",
    "\"Low income\",\"Lower middle income\",\"Low & middle income\",\n",
    "\"Late-demographic dividend\",\"Middle East & North Africa\",\n",
    "\"Middle income\",\n",
    "\"Middle East & North Africa (excluding high income)\",\n",
    "\"North America\",\"OECD members\",\n",
    "\"Other small states\",\"Pre-demographic dividend\",\n",
    "\"Pacific island small states\",\n",
    "\"Post-demographic dividend\",\n",
    "\"Sub-Saharan Africa (excluding high income)\",\n",
    "\"Sub-Saharan Africa\",\n",
    "\"Small states\",\"East Asia & Pacific (IDA & IBRD)\",\n",
    "\"Europe & Central Asia (IDA & IBRD)\",\n",
    "\"Latin America & Caribbean (IDA & IBRD)\",\n",
    "\"Middle East & North Africa (IDA & IBRD)\",\"South Asia\",\n",
    "\"South Asia (IDA & IBRD)\",\n",
    "\"Sub-Saharan Africa (IDA & IBRD)\",\n",
    "\"Upper middle income\", \"World\"]"
   ]
  },
  {
   "cell_type": "code",
   "execution_count": 4,
   "id": "50d1eb4a-2aae-41c2-b589-9306caa826f7",
   "metadata": {},
   "outputs": [
    {
     "data": {
      "text/html": [
       "<div>\n",
       "<style scoped>\n",
       "    .dataframe tbody tr th:only-of-type {\n",
       "        vertical-align: middle;\n",
       "    }\n",
       "\n",
       "    .dataframe tbody tr th {\n",
       "        vertical-align: top;\n",
       "    }\n",
       "\n",
       "    .dataframe thead th {\n",
       "        text-align: right;\n",
       "    }\n",
       "</style>\n",
       "<table border=\"1\" class=\"dataframe\">\n",
       "  <thead>\n",
       "    <tr style=\"text-align: right;\">\n",
       "      <th></th>\n",
       "      <th>Country Name</th>\n",
       "      <th>Country Code</th>\n",
       "      <th>Indicator Name</th>\n",
       "      <th>Indicator Code</th>\n",
       "      <th>1960</th>\n",
       "      <th>1961</th>\n",
       "      <th>1962</th>\n",
       "      <th>1963</th>\n",
       "      <th>1964</th>\n",
       "      <th>1965</th>\n",
       "      <th>...</th>\n",
       "      <th>2014</th>\n",
       "      <th>2015</th>\n",
       "      <th>2016</th>\n",
       "      <th>2017</th>\n",
       "      <th>2018</th>\n",
       "      <th>2019</th>\n",
       "      <th>2020</th>\n",
       "      <th>2021</th>\n",
       "      <th>2022</th>\n",
       "      <th>Unnamed: 67</th>\n",
       "    </tr>\n",
       "  </thead>\n",
       "  <tbody>\n",
       "    <tr>\n",
       "      <th>0</th>\n",
       "      <td>Aruba</td>\n",
       "      <td>ABW</td>\n",
       "      <td>Goods exports (BoP, current US$)</td>\n",
       "      <td>BX.GSR.MRCH.CD</td>\n",
       "      <td>NaN</td>\n",
       "      <td>NaN</td>\n",
       "      <td>NaN</td>\n",
       "      <td>NaN</td>\n",
       "      <td>NaN</td>\n",
       "      <td>NaN</td>\n",
       "      <td>...</td>\n",
       "      <td>2.545405e+08</td>\n",
       "      <td>3.296600e+08</td>\n",
       "      <td>2.840210e+08</td>\n",
       "      <td>1.346004e+08</td>\n",
       "      <td>1.848016e+08</td>\n",
       "      <td>1.307081e+08</td>\n",
       "      <td>8.733158e+07</td>\n",
       "      <td>1.230030e+08</td>\n",
       "      <td>2.052746e+08</td>\n",
       "      <td>NaN</td>\n",
       "    </tr>\n",
       "    <tr>\n",
       "      <th>1</th>\n",
       "      <td>Africa Eastern and Southern</td>\n",
       "      <td>AFE</td>\n",
       "      <td>Goods exports (BoP, current US$)</td>\n",
       "      <td>BX.GSR.MRCH.CD</td>\n",
       "      <td>NaN</td>\n",
       "      <td>NaN</td>\n",
       "      <td>NaN</td>\n",
       "      <td>NaN</td>\n",
       "      <td>NaN</td>\n",
       "      <td>NaN</td>\n",
       "      <td>...</td>\n",
       "      <td>2.328337e+11</td>\n",
       "      <td>1.807787e+11</td>\n",
       "      <td>1.713935e+11</td>\n",
       "      <td>1.954152e+11</td>\n",
       "      <td>2.161620e+11</td>\n",
       "      <td>2.026909e+11</td>\n",
       "      <td>1.805053e+11</td>\n",
       "      <td>2.585645e+11</td>\n",
       "      <td>2.892419e+11</td>\n",
       "      <td>NaN</td>\n",
       "    </tr>\n",
       "    <tr>\n",
       "      <th>2</th>\n",
       "      <td>Afghanistan</td>\n",
       "      <td>AFG</td>\n",
       "      <td>Goods exports (BoP, current US$)</td>\n",
       "      <td>BX.GSR.MRCH.CD</td>\n",
       "      <td>NaN</td>\n",
       "      <td>NaN</td>\n",
       "      <td>NaN</td>\n",
       "      <td>NaN</td>\n",
       "      <td>NaN</td>\n",
       "      <td>NaN</td>\n",
       "      <td>...</td>\n",
       "      <td>6.417674e+08</td>\n",
       "      <td>5.778598e+08</td>\n",
       "      <td>6.142176e+08</td>\n",
       "      <td>7.839629e+08</td>\n",
       "      <td>8.752427e+08</td>\n",
       "      <td>8.638344e+08</td>\n",
       "      <td>7.767345e+08</td>\n",
       "      <td>NaN</td>\n",
       "      <td>NaN</td>\n",
       "      <td>NaN</td>\n",
       "    </tr>\n",
       "    <tr>\n",
       "      <th>3</th>\n",
       "      <td>Africa Western and Central</td>\n",
       "      <td>AFW</td>\n",
       "      <td>Goods exports (BoP, current US$)</td>\n",
       "      <td>BX.GSR.MRCH.CD</td>\n",
       "      <td>NaN</td>\n",
       "      <td>NaN</td>\n",
       "      <td>NaN</td>\n",
       "      <td>NaN</td>\n",
       "      <td>NaN</td>\n",
       "      <td>NaN</td>\n",
       "      <td>...</td>\n",
       "      <td>1.657213e+11</td>\n",
       "      <td>1.084194e+11</td>\n",
       "      <td>9.644857e+10</td>\n",
       "      <td>1.192904e+11</td>\n",
       "      <td>1.424634e+11</td>\n",
       "      <td>1.496790e+11</td>\n",
       "      <td>1.182803e+11</td>\n",
       "      <td>1.434662e+11</td>\n",
       "      <td>NaN</td>\n",
       "      <td>NaN</td>\n",
       "    </tr>\n",
       "    <tr>\n",
       "      <th>4</th>\n",
       "      <td>Angola</td>\n",
       "      <td>AGO</td>\n",
       "      <td>Goods exports (BoP, current US$)</td>\n",
       "      <td>BX.GSR.MRCH.CD</td>\n",
       "      <td>NaN</td>\n",
       "      <td>NaN</td>\n",
       "      <td>NaN</td>\n",
       "      <td>NaN</td>\n",
       "      <td>NaN</td>\n",
       "      <td>NaN</td>\n",
       "      <td>...</td>\n",
       "      <td>5.916988e+10</td>\n",
       "      <td>3.318113e+10</td>\n",
       "      <td>2.758888e+10</td>\n",
       "      <td>3.461345e+10</td>\n",
       "      <td>4.075777e+10</td>\n",
       "      <td>3.472556e+10</td>\n",
       "      <td>2.093744e+10</td>\n",
       "      <td>3.358149e+10</td>\n",
       "      <td>5.003799e+10</td>\n",
       "      <td>NaN</td>\n",
       "    </tr>\n",
       "  </tbody>\n",
       "</table>\n",
       "<p>5 rows × 68 columns</p>\n",
       "</div>"
      ],
      "text/plain": [
       "                  Country Name Country Code                    Indicator Name  \\\n",
       "0                        Aruba          ABW  Goods exports (BoP, current US$)   \n",
       "1  Africa Eastern and Southern          AFE  Goods exports (BoP, current US$)   \n",
       "2                  Afghanistan          AFG  Goods exports (BoP, current US$)   \n",
       "3   Africa Western and Central          AFW  Goods exports (BoP, current US$)   \n",
       "4                       Angola          AGO  Goods exports (BoP, current US$)   \n",
       "\n",
       "   Indicator Code  1960  1961  1962  1963  1964  1965  ...          2014  \\\n",
       "0  BX.GSR.MRCH.CD   NaN   NaN   NaN   NaN   NaN   NaN  ...  2.545405e+08   \n",
       "1  BX.GSR.MRCH.CD   NaN   NaN   NaN   NaN   NaN   NaN  ...  2.328337e+11   \n",
       "2  BX.GSR.MRCH.CD   NaN   NaN   NaN   NaN   NaN   NaN  ...  6.417674e+08   \n",
       "3  BX.GSR.MRCH.CD   NaN   NaN   NaN   NaN   NaN   NaN  ...  1.657213e+11   \n",
       "4  BX.GSR.MRCH.CD   NaN   NaN   NaN   NaN   NaN   NaN  ...  5.916988e+10   \n",
       "\n",
       "           2015          2016          2017          2018          2019  \\\n",
       "0  3.296600e+08  2.840210e+08  1.346004e+08  1.848016e+08  1.307081e+08   \n",
       "1  1.807787e+11  1.713935e+11  1.954152e+11  2.161620e+11  2.026909e+11   \n",
       "2  5.778598e+08  6.142176e+08  7.839629e+08  8.752427e+08  8.638344e+08   \n",
       "3  1.084194e+11  9.644857e+10  1.192904e+11  1.424634e+11  1.496790e+11   \n",
       "4  3.318113e+10  2.758888e+10  3.461345e+10  4.075777e+10  3.472556e+10   \n",
       "\n",
       "           2020          2021          2022  Unnamed: 67  \n",
       "0  8.733158e+07  1.230030e+08  2.052746e+08          NaN  \n",
       "1  1.805053e+11  2.585645e+11  2.892419e+11          NaN  \n",
       "2  7.767345e+08           NaN           NaN          NaN  \n",
       "3  1.182803e+11  1.434662e+11           NaN          NaN  \n",
       "4  2.093744e+10  3.358149e+10  5.003799e+10          NaN  \n",
       "\n",
       "[5 rows x 68 columns]"
      ]
     },
     "execution_count": 4,
     "metadata": {},
     "output_type": "execute_result"
    }
   ],
   "source": [
    "exports = pd.read_csv(\"exports/goods_exported.csv\", skiprows=4)\n",
    "exports.head()"
   ]
  },
  {
   "cell_type": "code",
   "execution_count": 5,
   "id": "d7c51311-797c-4a0d-8328-45cf6cc9b624",
   "metadata": {},
   "outputs": [],
   "source": [
    "#print(exports.columns)"
   ]
  },
  {
   "cell_type": "code",
   "execution_count": 6,
   "id": "8bc186ab-9540-490a-8282-e398b5d0296a",
   "metadata": {},
   "outputs": [],
   "source": [
    "exports = exports.drop(columns=['Indicator Code', 'Unnamed: 67'])\n",
    "#print(exports.columns)"
   ]
  },
  {
   "cell_type": "code",
   "execution_count": 7,
   "id": "8b679021-0c7b-492b-bda1-9f12910d175b",
   "metadata": {},
   "outputs": [],
   "source": [
    "exports = exports.rename(columns={\"Country Code\": \"country_code\", \"Country Name\": \"country_name_exp\", \"Indicator Name\": 'feature'})\n",
    "#exports"
   ]
  },
  {
   "cell_type": "code",
   "execution_count": 8,
   "id": "32fb50e3-4614-4e88-90cd-e9b83dd0ae52",
   "metadata": {},
   "outputs": [],
   "source": [
    "exports = exports.query('country_name_exp != @noncountries')\n",
    "#exports"
   ]
  },
  {
   "cell_type": "code",
   "execution_count": 9,
   "id": "f228d86a-08fb-41fa-90e1-c82fbbfacdee",
   "metadata": {},
   "outputs": [],
   "source": [
    "imports = pd.read_csv(\"imports/import_goods_services.csv\", skiprows=4)\n",
    "#imports.head()"
   ]
  },
  {
   "cell_type": "code",
   "execution_count": 10,
   "id": "4e0d0a6a-e47b-40ee-badf-b9d4f670fb95",
   "metadata": {},
   "outputs": [],
   "source": [
    "#print(imports.columns)"
   ]
  },
  {
   "cell_type": "code",
   "execution_count": 11,
   "id": "f720ff23-7fbe-43b7-b32f-66c5ebc9678b",
   "metadata": {},
   "outputs": [],
   "source": [
    "imports = imports.drop(columns=['Indicator Code', 'Unnamed: 67'])\n",
    "#print(imports.columns)"
   ]
  },
  {
   "cell_type": "code",
   "execution_count": 12,
   "id": "44075a9f-176e-4a79-a0e7-4f5302a02b62",
   "metadata": {},
   "outputs": [],
   "source": [
    "imports = imports.rename(columns={\"Country Code\": \"country_code\", \"Country Name\": \"country_name_imp\", \"Indicator Name\": 'feature'})\n",
    "#imports"
   ]
  },
  {
   "cell_type": "code",
   "execution_count": 13,
   "id": "8d8d85b5-cf8e-4fd7-93ec-d6264dafc244",
   "metadata": {},
   "outputs": [],
   "source": [
    "imports = imports.query('country_name_imp != @noncountries')\n",
    "#imports"
   ]
  },
  {
   "cell_type": "markdown",
   "id": "49895d72-9ac3-42f1-899b-0044bde0ecdf",
   "metadata": {},
   "source": [
    "#### GDP"
   ]
  },
  {
   "cell_type": "code",
   "execution_count": 14,
   "id": "352999e3-e2d7-4d7e-889f-224f700bd801",
   "metadata": {},
   "outputs": [],
   "source": [
    "gdp = pd.read_csv(\"gdp/GDP.csv\", skiprows=4)\n",
    "#gdp.head()"
   ]
  },
  {
   "cell_type": "code",
   "execution_count": 15,
   "id": "2eabbeea-92fa-4c79-a132-a17dd5a15b9b",
   "metadata": {},
   "outputs": [],
   "source": [
    "#print(gdp.columns)"
   ]
  },
  {
   "cell_type": "code",
   "execution_count": 16,
   "id": "199d1a73-c226-4f90-9c5e-9b8c5a82fd4c",
   "metadata": {},
   "outputs": [],
   "source": [
    "gdp = gdp.drop(columns=['Indicator Code', 'Unnamed: 67'])\n",
    "#print(gdp.columns)"
   ]
  },
  {
   "cell_type": "code",
   "execution_count": 17,
   "id": "a60abdd7-fe55-4e5d-89bb-cc434571b339",
   "metadata": {},
   "outputs": [],
   "source": [
    "gdp = gdp.rename(columns={\"Country Code\": \"country_code\", \"Country Name\": \"country_name_gdp\", \"Indicator Name\": 'feature'})\n",
    "#gdp"
   ]
  },
  {
   "cell_type": "code",
   "execution_count": 18,
   "id": "222694cc-98b9-44cd-9445-c5d16ef436b2",
   "metadata": {},
   "outputs": [],
   "source": [
    "gdp = gdp.query('country_name_gdp != @noncountries')\n",
    "#gdp"
   ]
  },
  {
   "cell_type": "markdown",
   "id": "6277a0d9-bf69-4494-9e4a-ca99b29f8bc2",
   "metadata": {},
   "source": [
    "##### Tariffs"
   ]
  },
  {
   "cell_type": "code",
   "execution_count": 19,
   "id": "c5ae190c-4008-493b-ac0b-4386c7de3281",
   "metadata": {},
   "outputs": [],
   "source": [
    "tariffs = pd.read_csv(\"tariffs/tarrifs.csv\", skiprows=4)\n",
    "#tariffs.head()"
   ]
  },
  {
   "cell_type": "code",
   "execution_count": 20,
   "id": "f61bd0ab-5985-412e-8b4c-26f2215fbd12",
   "metadata": {},
   "outputs": [],
   "source": [
    "#print(tariffs.columns)"
   ]
  },
  {
   "cell_type": "code",
   "execution_count": 21,
   "id": "eadff80c-63a6-4473-9a53-da4153816b4c",
   "metadata": {},
   "outputs": [],
   "source": [
    "tariffs = tariffs.drop(columns=['Indicator Code', 'Unnamed: 67'])\n",
    "#print(tariffs.columns)"
   ]
  },
  {
   "cell_type": "code",
   "execution_count": 22,
   "id": "ee8f6a4b-3e69-45ab-8b66-8061e627d451",
   "metadata": {},
   "outputs": [],
   "source": [
    "tariffs = tariffs.rename(columns={\"Country Code\": \"country_code\", \"Country Name\": \"country_name_tar\", \"Indicator Name\": 'feature'})\n",
    "#tariffs"
   ]
  },
  {
   "cell_type": "code",
   "execution_count": 23,
   "id": "95b5b47f-00d4-46b7-9cc6-20d07ef7b041",
   "metadata": {},
   "outputs": [],
   "source": [
    "tariffs = tariffs.query('country_name_tar != @noncountries')\n",
    "#tariffs"
   ]
  },
  {
   "cell_type": "markdown",
   "id": "3eeab40a-f69f-48bb-9893-6002cc774cf5",
   "metadata": {},
   "source": [
    "#### NEED TO CHANGE Features"
   ]
  },
  {
   "cell_type": "code",
   "execution_count": 24,
   "id": "6ccb8b96-6e53-440e-b738-aa2803a855f6",
   "metadata": {},
   "outputs": [],
   "source": [
    "#wb = wb.replace(replace_map)\n",
    "#wb"
   ]
  },
  {
   "cell_type": "code",
   "execution_count": null,
   "id": "430390b6-125f-4be4-8b54-b8b393ffe801",
   "metadata": {},
   "outputs": [],
   "source": []
  },
  {
   "cell_type": "code",
   "execution_count": null,
   "id": "defbc86b-e6d9-454d-9c44-135bf3a6ceac",
   "metadata": {},
   "outputs": [],
   "source": []
  },
  {
   "cell_type": "code",
   "execution_count": null,
   "id": "d39df0f9-542a-4205-97c9-6c345594d8e9",
   "metadata": {},
   "outputs": [],
   "source": []
  },
  {
   "cell_type": "markdown",
   "id": "685f8ffa-31ab-4f13-9b19-4409067ff011",
   "metadata": {},
   "source": [
    "# Melt and conform to one data frame"
   ]
  },
  {
   "cell_type": "code",
   "execution_count": 25,
   "id": "5d20119e-955a-4d7e-a7be-c5fc77f17213",
   "metadata": {},
   "outputs": [],
   "source": [
    "exports = pd.melt(exports, id_vars=['country_name_exp', 'country_code'\n",
    "                         ,'feature'], var_name='year', value_name='value')\n",
    "#exports"
   ]
  },
  {
   "cell_type": "code",
   "execution_count": 26,
   "id": "2cc13860-5980-4bee-b210-e1b2f755e4b7",
   "metadata": {},
   "outputs": [],
   "source": [
    "exports = exports.pivot_table(index=['country_name_exp','country_code', 'year'], columns='feature', values='value').reset_index()\n",
    " \n",
    " \n",
    "exports.columns.name = None\n",
    " \n",
    " \n",
    "exports = exports.reset_index(drop=True)"
   ]
  },
  {
   "cell_type": "code",
   "execution_count": 27,
   "id": "a07606d3-8d58-4eba-8346-3a8b8e2e1ffa",
   "metadata": {},
   "outputs": [],
   "source": [
    "exports['year'] = pd.to_numeric(exports['year'])"
   ]
  },
  {
   "cell_type": "code",
   "execution_count": 28,
   "id": "d928a8a7-c2dc-41b4-892b-85922129dedb",
   "metadata": {},
   "outputs": [],
   "source": [
    "imports = pd.melt(imports, id_vars=['country_name_imp', 'country_code'\n",
    "                         ,'feature'], var_name='year', value_name='value')\n",
    "#imports"
   ]
  },
  {
   "cell_type": "code",
   "execution_count": 29,
   "id": "1686e1de-d3cd-4a2d-b343-e3a045aefc52",
   "metadata": {},
   "outputs": [],
   "source": [
    "imports = imports.pivot_table(index=['country_name_imp','country_code', 'year'], columns='feature', values='value').reset_index()\n",
    " \n",
    " \n",
    "imports.columns.name = None\n",
    " \n",
    " \n",
    "imports = imports.reset_index(drop=True)"
   ]
  },
  {
   "cell_type": "code",
   "execution_count": 30,
   "id": "5aa2cf0d-1549-43d0-b6bf-bba1717c9e2f",
   "metadata": {},
   "outputs": [],
   "source": [
    "imports['year'] = pd.to_numeric(imports['year'])"
   ]
  },
  {
   "cell_type": "markdown",
   "id": "92022f6f-9a77-4d5a-8c74-88054f131190",
   "metadata": {},
   "source": [
    "# Merge 1"
   ]
  },
  {
   "cell_type": "code",
   "execution_count": 31,
   "id": "29aefcce-a024-4ec5-9b57-995721ca9090",
   "metadata": {},
   "outputs": [],
   "source": [
    "merge1 = pd.merge(exports, imports, on = ['country_code', 'year'],\n",
    "                  how = 'inner')"
   ]
  },
  {
   "cell_type": "code",
   "execution_count": 32,
   "id": "baf1b21e-2930-4804-8169-2ca7510921a6",
   "metadata": {},
   "outputs": [],
   "source": [
    "gdp = pd.melt(gdp, id_vars=['country_name_gdp', 'country_code'\n",
    "                         ,'feature'], var_name='year', value_name='value')\n",
    "#gdp"
   ]
  },
  {
   "cell_type": "code",
   "execution_count": 33,
   "id": "705eda52-dcfb-4979-8f8e-986d82b16152",
   "metadata": {},
   "outputs": [],
   "source": [
    "gdp = gdp.pivot_table(index=['country_name_gdp','country_code', 'year'], columns='feature', values='value').reset_index()\n",
    " \n",
    " \n",
    "gdp.columns.name = None\n",
    " \n",
    " \n",
    "gdp = gdp.reset_index(drop=True)"
   ]
  },
  {
   "cell_type": "code",
   "execution_count": 34,
   "id": "026f3362-d2c3-47bd-95f7-5aa33fad0c11",
   "metadata": {},
   "outputs": [],
   "source": [
    "gdp['year'] = pd.to_numeric(gdp['year'])"
   ]
  },
  {
   "cell_type": "code",
   "execution_count": 35,
   "id": "11a3704e-9dbb-43c6-a181-3a10a69a424c",
   "metadata": {},
   "outputs": [],
   "source": [
    "tariffs = pd.melt(tariffs, id_vars=['country_name_tar', 'country_code'\n",
    "                         ,'feature'], var_name='year', value_name='value')\n",
    "#tariffs"
   ]
  },
  {
   "cell_type": "code",
   "execution_count": 36,
   "id": "7d61afa2-4e4f-474c-8d5d-d43d1c4acecf",
   "metadata": {},
   "outputs": [],
   "source": [
    "tariffs = tariffs.pivot_table(index=['country_name_tar','country_code', 'year'], columns='feature', values='value').reset_index()\n",
    " \n",
    " \n",
    "tariffs.columns.name = None\n",
    " \n",
    " \n",
    "tariffs = tariffs.reset_index(drop=True)"
   ]
  },
  {
   "cell_type": "code",
   "execution_count": 37,
   "id": "c5dceb45-827a-42e7-8955-e633c6a925e8",
   "metadata": {},
   "outputs": [],
   "source": [
    "tariffs['year'] = pd.to_numeric(tariffs['year'])"
   ]
  },
  {
   "cell_type": "markdown",
   "id": "690daf8f-0106-4d46-abe8-8942b4ea5250",
   "metadata": {},
   "source": [
    "# Merge 2"
   ]
  },
  {
   "cell_type": "code",
   "execution_count": 38,
   "id": "0b2ce089-2c1f-4833-9aac-689edba38b21",
   "metadata": {},
   "outputs": [],
   "source": [
    "merge2 = pd.merge(gdp, tariffs, on = ['country_code', 'year'],\n",
    "                  how = 'inner')"
   ]
  },
  {
   "cell_type": "markdown",
   "id": "2cbadf11-6b2e-473b-9af0-3e9d9221f952",
   "metadata": {},
   "source": [
    "# Merge 3"
   ]
  },
  {
   "cell_type": "code",
   "execution_count": 39,
   "id": "931d9719-5ece-43c5-aa5f-415ee66821fe",
   "metadata": {},
   "outputs": [],
   "source": [
    "merge = pd.merge(merge1, merge2, on = ['country_code', 'year'],\n",
    "                  how = 'inner')"
   ]
  },
  {
   "cell_type": "code",
   "execution_count": 40,
   "id": "f6d5af5b-50cc-4a8a-86c4-07ae5faf7b8d",
   "metadata": {},
   "outputs": [
    {
     "data": {
      "text/plain": [
       "Index(['country_name_exp', 'country_code', 'year',\n",
       "       'Goods exports (BoP, current US$)', 'country_name_imp',\n",
       "       'Imports of goods, services and primary income (BoP, current US$)',\n",
       "       'country_name_gdp', 'GDP (current US$)', 'country_name_tar',\n",
       "       'Tariff rate, most favored nation, weighted mean, all products (%)'],\n",
       "      dtype='object')"
      ]
     },
     "execution_count": 40,
     "metadata": {},
     "output_type": "execute_result"
    }
   ],
   "source": [
    "merge.columns"
   ]
  },
  {
   "cell_type": "code",
   "execution_count": 58,
   "id": "68e9ec73-dbaa-45e4-aed1-2f8e63773bc7",
   "metadata": {},
   "outputs": [
    {
     "data": {
      "text/html": [
       "<div>\n",
       "<style scoped>\n",
       "    .dataframe tbody tr th:only-of-type {\n",
       "        vertical-align: middle;\n",
       "    }\n",
       "\n",
       "    .dataframe tbody tr th {\n",
       "        vertical-align: top;\n",
       "    }\n",
       "\n",
       "    .dataframe thead th {\n",
       "        text-align: right;\n",
       "    }\n",
       "</style>\n",
       "<table border=\"1\" class=\"dataframe\">\n",
       "  <thead>\n",
       "    <tr style=\"text-align: right;\">\n",
       "      <th></th>\n",
       "      <th>country_name_exp</th>\n",
       "      <th>country_code</th>\n",
       "      <th>year</th>\n",
       "      <th>Goods exports (BoP, current US$)</th>\n",
       "      <th>Imports of goods, services and primary income (BoP, current US$)</th>\n",
       "      <th>GDP (current US$)</th>\n",
       "      <th>Tariff rate, most favored nation, weighted mean, all products (%)</th>\n",
       "    </tr>\n",
       "  </thead>\n",
       "  <tbody>\n",
       "    <tr>\n",
       "      <th>0</th>\n",
       "      <td>Afghanistan</td>\n",
       "      <td>AFG</td>\n",
       "      <td>2008</td>\n",
       "      <td>5.632992e+08</td>\n",
       "      <td>3.873397e+09</td>\n",
       "      <td>1.024977e+10</td>\n",
       "      <td>5.00</td>\n",
       "    </tr>\n",
       "    <tr>\n",
       "      <th>1</th>\n",
       "      <td>Afghanistan</td>\n",
       "      <td>AFG</td>\n",
       "      <td>2012</td>\n",
       "      <td>4.755310e+08</td>\n",
       "      <td>9.891159e+09</td>\n",
       "      <td>2.020357e+10</td>\n",
       "      <td>5.50</td>\n",
       "    </tr>\n",
       "    <tr>\n",
       "      <th>2</th>\n",
       "      <td>Afghanistan</td>\n",
       "      <td>AFG</td>\n",
       "      <td>2013</td>\n",
       "      <td>5.057926e+08</td>\n",
       "      <td>1.018433e+10</td>\n",
       "      <td>2.056449e+10</td>\n",
       "      <td>5.50</td>\n",
       "    </tr>\n",
       "    <tr>\n",
       "      <th>3</th>\n",
       "      <td>Afghanistan</td>\n",
       "      <td>AFG</td>\n",
       "      <td>2018</td>\n",
       "      <td>8.752427e+08</td>\n",
       "      <td>8.086339e+09</td>\n",
       "      <td>1.841886e+10</td>\n",
       "      <td>5.72</td>\n",
       "    </tr>\n",
       "    <tr>\n",
       "      <th>4</th>\n",
       "      <td>Albania</td>\n",
       "      <td>ALB</td>\n",
       "      <td>1997</td>\n",
       "      <td>9.090000e+07</td>\n",
       "      <td>6.976125e+08</td>\n",
       "      <td>2.258514e+09</td>\n",
       "      <td>14.41</td>\n",
       "    </tr>\n",
       "    <tr>\n",
       "      <th>...</th>\n",
       "      <td>...</td>\n",
       "      <td>...</td>\n",
       "      <td>...</td>\n",
       "      <td>...</td>\n",
       "      <td>...</td>\n",
       "      <td>...</td>\n",
       "      <td>...</td>\n",
       "    </tr>\n",
       "    <tr>\n",
       "      <th>3461</th>\n",
       "      <td>Zimbabwe</td>\n",
       "      <td>ZWE</td>\n",
       "      <td>2010</td>\n",
       "      <td>3.245066e+09</td>\n",
       "      <td>6.593559e+09</td>\n",
       "      <td>1.204166e+10</td>\n",
       "      <td>16.60</td>\n",
       "    </tr>\n",
       "    <tr>\n",
       "      <th>3462</th>\n",
       "      <td>Zimbabwe</td>\n",
       "      <td>ZWE</td>\n",
       "      <td>2011</td>\n",
       "      <td>4.527563e+09</td>\n",
       "      <td>9.528102e+09</td>\n",
       "      <td>1.410192e+10</td>\n",
       "      <td>13.49</td>\n",
       "    </tr>\n",
       "    <tr>\n",
       "      <th>3463</th>\n",
       "      <td>Zimbabwe</td>\n",
       "      <td>ZWE</td>\n",
       "      <td>2012</td>\n",
       "      <td>3.963773e+09</td>\n",
       "      <td>8.683377e+09</td>\n",
       "      <td>1.711485e+10</td>\n",
       "      <td>14.76</td>\n",
       "    </tr>\n",
       "    <tr>\n",
       "      <th>3464</th>\n",
       "      <td>Zimbabwe</td>\n",
       "      <td>ZWE</td>\n",
       "      <td>2015</td>\n",
       "      <td>3.577478e+09</td>\n",
       "      <td>7.584347e+09</td>\n",
       "      <td>1.996312e+10</td>\n",
       "      <td>12.86</td>\n",
       "    </tr>\n",
       "    <tr>\n",
       "      <th>3465</th>\n",
       "      <td>Zimbabwe</td>\n",
       "      <td>ZWE</td>\n",
       "      <td>2016</td>\n",
       "      <td>3.662939e+09</td>\n",
       "      <td>6.587937e+09</td>\n",
       "      <td>2.054868e+10</td>\n",
       "      <td>10.62</td>\n",
       "    </tr>\n",
       "  </tbody>\n",
       "</table>\n",
       "<p>3466 rows × 7 columns</p>\n",
       "</div>"
      ],
      "text/plain": [
       "     country_name_exp country_code  year  Goods exports (BoP, current US$)  \\\n",
       "0         Afghanistan          AFG  2008                      5.632992e+08   \n",
       "1         Afghanistan          AFG  2012                      4.755310e+08   \n",
       "2         Afghanistan          AFG  2013                      5.057926e+08   \n",
       "3         Afghanistan          AFG  2018                      8.752427e+08   \n",
       "4             Albania          ALB  1997                      9.090000e+07   \n",
       "...               ...          ...   ...                               ...   \n",
       "3461         Zimbabwe          ZWE  2010                      3.245066e+09   \n",
       "3462         Zimbabwe          ZWE  2011                      4.527563e+09   \n",
       "3463         Zimbabwe          ZWE  2012                      3.963773e+09   \n",
       "3464         Zimbabwe          ZWE  2015                      3.577478e+09   \n",
       "3465         Zimbabwe          ZWE  2016                      3.662939e+09   \n",
       "\n",
       "      Imports of goods, services and primary income (BoP, current US$)  \\\n",
       "0                                          3.873397e+09                  \n",
       "1                                          9.891159e+09                  \n",
       "2                                          1.018433e+10                  \n",
       "3                                          8.086339e+09                  \n",
       "4                                          6.976125e+08                  \n",
       "...                                                 ...                  \n",
       "3461                                       6.593559e+09                  \n",
       "3462                                       9.528102e+09                  \n",
       "3463                                       8.683377e+09                  \n",
       "3464                                       7.584347e+09                  \n",
       "3465                                       6.587937e+09                  \n",
       "\n",
       "      GDP (current US$)  \\\n",
       "0          1.024977e+10   \n",
       "1          2.020357e+10   \n",
       "2          2.056449e+10   \n",
       "3          1.841886e+10   \n",
       "4          2.258514e+09   \n",
       "...                 ...   \n",
       "3461       1.204166e+10   \n",
       "3462       1.410192e+10   \n",
       "3463       1.711485e+10   \n",
       "3464       1.996312e+10   \n",
       "3465       2.054868e+10   \n",
       "\n",
       "      Tariff rate, most favored nation, weighted mean, all products (%)  \n",
       "0                                                  5.00                  \n",
       "1                                                  5.50                  \n",
       "2                                                  5.50                  \n",
       "3                                                  5.72                  \n",
       "4                                                 14.41                  \n",
       "...                                                 ...                  \n",
       "3461                                              16.60                  \n",
       "3462                                              13.49                  \n",
       "3463                                              14.76                  \n",
       "3464                                              12.86                  \n",
       "3465                                              10.62                  \n",
       "\n",
       "[3466 rows x 7 columns]"
      ]
     },
     "execution_count": 58,
     "metadata": {},
     "output_type": "execute_result"
    }
   ],
   "source": [
    "merge = merge.drop(columns=['country_name_imp', 'country_name_gdp', 'country_name_tar'])\n",
    "merge"
   ]
  },
  {
   "cell_type": "code",
   "execution_count": 59,
   "id": "d4cd1ab8-258a-4e60-9408-425a4c598f76",
   "metadata": {},
   "outputs": [
    {
     "data": {
      "text/plain": [
       "Index(['country_name_exp', 'country_code', 'year',\n",
       "       'Goods exports (BoP, current US$)',\n",
       "       'Imports of goods, services and primary income (BoP, current US$)',\n",
       "       'GDP (current US$)',\n",
       "       'Tariff rate, most favored nation, weighted mean, all products (%)'],\n",
       "      dtype='object')"
      ]
     },
     "execution_count": 59,
     "metadata": {},
     "output_type": "execute_result"
    }
   ],
   "source": [
    "merge.columns"
   ]
  },
  {
   "cell_type": "markdown",
   "id": "e3f20c05-e34f-4f32-be0e-9518764a730b",
   "metadata": {},
   "source": [
    "## Preprocess Human Development Reports\n",
    "\n",
    "need to add openpyxl to requirements"
   ]
  },
  {
   "cell_type": "code",
   "execution_count": 42,
   "id": "1587739b-417f-43dd-a8b4-449f6b8b81db",
   "metadata": {},
   "outputs": [],
   "source": [
    "hdi = pd.read_excel(\"HDR21-22_Statistical_Annex_HDI_Table.xlsx\")"
   ]
  },
  {
   "cell_type": "code",
   "execution_count": 43,
   "id": "75ba52fe-1a5f-4894-a6f0-af1b82ec12fa",
   "metadata": {
    "scrolled": true
   },
   "outputs": [
    {
     "data": {
      "text/html": [
       "<div>\n",
       "<style scoped>\n",
       "    .dataframe tbody tr th:only-of-type {\n",
       "        vertical-align: middle;\n",
       "    }\n",
       "\n",
       "    .dataframe tbody tr th {\n",
       "        vertical-align: top;\n",
       "    }\n",
       "\n",
       "    .dataframe thead th {\n",
       "        text-align: right;\n",
       "    }\n",
       "</style>\n",
       "<table border=\"1\" class=\"dataframe\">\n",
       "  <thead>\n",
       "    <tr style=\"text-align: right;\">\n",
       "      <th></th>\n",
       "      <th>HDI rank</th>\n",
       "      <th>Country</th>\n",
       "      <th>Human Development Index (HDI)</th>\n",
       "      <th>Life expectancy at birth</th>\n",
       "      <th>Expected years of schooling</th>\n",
       "      <th>Mean years of schooling</th>\n",
       "      <th>Gross national income (GNI) per capita</th>\n",
       "      <th>GNI per capita rank minus HDI rank</th>\n",
       "      <th>Previous HDI rank</th>\n",
       "    </tr>\n",
       "  </thead>\n",
       "  <tbody>\n",
       "    <tr>\n",
       "      <th>0</th>\n",
       "      <td>1</td>\n",
       "      <td>Switzerland</td>\n",
       "      <td>0.962</td>\n",
       "      <td>83.9872</td>\n",
       "      <td>16.500299</td>\n",
       "      <td>13.85966</td>\n",
       "      <td>66933.00454</td>\n",
       "      <td>5</td>\n",
       "      <td>3</td>\n",
       "    </tr>\n",
       "    <tr>\n",
       "      <th>1</th>\n",
       "      <td>2</td>\n",
       "      <td>Norway</td>\n",
       "      <td>0.961</td>\n",
       "      <td>83.2339</td>\n",
       "      <td>18.185200</td>\n",
       "      <td>13.00363</td>\n",
       "      <td>64660.10622</td>\n",
       "      <td>6</td>\n",
       "      <td>1</td>\n",
       "    </tr>\n",
       "    <tr>\n",
       "      <th>2</th>\n",
       "      <td>3</td>\n",
       "      <td>Iceland</td>\n",
       "      <td>0.959</td>\n",
       "      <td>82.6782</td>\n",
       "      <td>19.163059</td>\n",
       "      <td>13.76717</td>\n",
       "      <td>55782.04981</td>\n",
       "      <td>11</td>\n",
       "      <td>2</td>\n",
       "    </tr>\n",
       "    <tr>\n",
       "      <th>3</th>\n",
       "      <td>4</td>\n",
       "      <td>Hong Kong, China (SAR)</td>\n",
       "      <td>0.952</td>\n",
       "      <td>85.4734</td>\n",
       "      <td>17.278170</td>\n",
       "      <td>12.22621</td>\n",
       "      <td>62606.84540</td>\n",
       "      <td>6</td>\n",
       "      <td>4</td>\n",
       "    </tr>\n",
       "    <tr>\n",
       "      <th>4</th>\n",
       "      <td>5</td>\n",
       "      <td>Australia</td>\n",
       "      <td>0.951</td>\n",
       "      <td>84.5265</td>\n",
       "      <td>21.054590</td>\n",
       "      <td>12.72682</td>\n",
       "      <td>49238.43335</td>\n",
       "      <td>18</td>\n",
       "      <td>5</td>\n",
       "    </tr>\n",
       "  </tbody>\n",
       "</table>\n",
       "</div>"
      ],
      "text/plain": [
       "   HDI rank                 Country  Human Development Index (HDI)   \\\n",
       "0         1             Switzerland                           0.962   \n",
       "1         2                  Norway                           0.961   \n",
       "2         3                 Iceland                           0.959   \n",
       "3         4  Hong Kong, China (SAR)                           0.952   \n",
       "4         5               Australia                           0.951   \n",
       "\n",
       "   Life expectancy at birth  Expected years of schooling  \\\n",
       "0                   83.9872                    16.500299   \n",
       "1                   83.2339                    18.185200   \n",
       "2                   82.6782                    19.163059   \n",
       "3                   85.4734                    17.278170   \n",
       "4                   84.5265                    21.054590   \n",
       "\n",
       "   Mean years of schooling  Gross national income (GNI) per capita  \\\n",
       "0                 13.85966                             66933.00454   \n",
       "1                 13.00363                             64660.10622   \n",
       "2                 13.76717                             55782.04981   \n",
       "3                 12.22621                             62606.84540   \n",
       "4                 12.72682                             49238.43335   \n",
       "\n",
       "   GNI per capita rank minus HDI rank  Previous HDI rank  \n",
       "0                                   5                  3  \n",
       "1                                   6                  1  \n",
       "2                                  11                  2  \n",
       "3                                   6                  4  \n",
       "4                                  18                  5  "
      ]
     },
     "execution_count": 43,
     "metadata": {},
     "output_type": "execute_result"
    }
   ],
   "source": [
    "hdi.head()"
   ]
  },
  {
   "cell_type": "code",
   "execution_count": 44,
   "id": "fd869807-d199-4ab8-bb16-a2396761abf5",
   "metadata": {},
   "outputs": [
    {
     "data": {
      "text/plain": [
       "HDI rank                                    int64\n",
       "Country                                    object\n",
       "Human Development Index (HDI)             float64\n",
       "Life expectancy at birth                  float64\n",
       "Expected years of schooling               float64\n",
       "Mean years of schooling                   float64\n",
       "Gross national income (GNI) per capita    float64\n",
       "GNI per capita rank minus HDI rank          int64\n",
       "Previous HDI rank                           int64\n",
       "dtype: object"
      ]
     },
     "execution_count": 44,
     "metadata": {},
     "output_type": "execute_result"
    }
   ],
   "source": [
    "hdi.dtypes"
   ]
  },
  {
   "cell_type": "code",
   "execution_count": 45,
   "id": "fa4adcf1-8a97-4237-90b0-0c4e2c9dd167",
   "metadata": {},
   "outputs": [
    {
     "data": {
      "text/html": [
       "<div>\n",
       "<style scoped>\n",
       "    .dataframe tbody tr th:only-of-type {\n",
       "        vertical-align: middle;\n",
       "    }\n",
       "\n",
       "    .dataframe tbody tr th {\n",
       "        vertical-align: top;\n",
       "    }\n",
       "\n",
       "    .dataframe thead th {\n",
       "        text-align: right;\n",
       "    }\n",
       "</style>\n",
       "<table border=\"1\" class=\"dataframe\">\n",
       "  <thead>\n",
       "    <tr style=\"text-align: right;\">\n",
       "      <th></th>\n",
       "      <th>rank</th>\n",
       "      <th>country_name_hdi</th>\n",
       "      <th>Human Development Index (HDI)</th>\n",
       "      <th>life_exp</th>\n",
       "      <th>exp_years_of_school</th>\n",
       "      <th>mean_years_of_school</th>\n",
       "      <th>gni</th>\n",
       "      <th>gni_minus_hdi</th>\n",
       "      <th>old_hdi</th>\n",
       "    </tr>\n",
       "  </thead>\n",
       "  <tbody>\n",
       "    <tr>\n",
       "      <th>0</th>\n",
       "      <td>1</td>\n",
       "      <td>Switzerland</td>\n",
       "      <td>0.962</td>\n",
       "      <td>83.9872</td>\n",
       "      <td>16.500299</td>\n",
       "      <td>13.859660</td>\n",
       "      <td>66933.004540</td>\n",
       "      <td>5</td>\n",
       "      <td>3</td>\n",
       "    </tr>\n",
       "    <tr>\n",
       "      <th>1</th>\n",
       "      <td>2</td>\n",
       "      <td>Norway</td>\n",
       "      <td>0.961</td>\n",
       "      <td>83.2339</td>\n",
       "      <td>18.185200</td>\n",
       "      <td>13.003630</td>\n",
       "      <td>64660.106220</td>\n",
       "      <td>6</td>\n",
       "      <td>1</td>\n",
       "    </tr>\n",
       "    <tr>\n",
       "      <th>2</th>\n",
       "      <td>3</td>\n",
       "      <td>Iceland</td>\n",
       "      <td>0.959</td>\n",
       "      <td>82.6782</td>\n",
       "      <td>19.163059</td>\n",
       "      <td>13.767170</td>\n",
       "      <td>55782.049810</td>\n",
       "      <td>11</td>\n",
       "      <td>2</td>\n",
       "    </tr>\n",
       "    <tr>\n",
       "      <th>3</th>\n",
       "      <td>4</td>\n",
       "      <td>Hong Kong, China (SAR)</td>\n",
       "      <td>0.952</td>\n",
       "      <td>85.4734</td>\n",
       "      <td>17.278170</td>\n",
       "      <td>12.226210</td>\n",
       "      <td>62606.845400</td>\n",
       "      <td>6</td>\n",
       "      <td>4</td>\n",
       "    </tr>\n",
       "    <tr>\n",
       "      <th>4</th>\n",
       "      <td>5</td>\n",
       "      <td>Australia</td>\n",
       "      <td>0.951</td>\n",
       "      <td>84.5265</td>\n",
       "      <td>21.054590</td>\n",
       "      <td>12.726820</td>\n",
       "      <td>49238.433350</td>\n",
       "      <td>18</td>\n",
       "      <td>5</td>\n",
       "    </tr>\n",
       "    <tr>\n",
       "      <th>...</th>\n",
       "      <td>...</td>\n",
       "      <td>...</td>\n",
       "      <td>...</td>\n",
       "      <td>...</td>\n",
       "      <td>...</td>\n",
       "      <td>...</td>\n",
       "      <td>...</td>\n",
       "      <td>...</td>\n",
       "      <td>...</td>\n",
       "    </tr>\n",
       "    <tr>\n",
       "      <th>186</th>\n",
       "      <td>187</td>\n",
       "      <td>Burundi</td>\n",
       "      <td>0.426</td>\n",
       "      <td>61.6627</td>\n",
       "      <td>10.722722</td>\n",
       "      <td>3.129267</td>\n",
       "      <td>731.786709</td>\n",
       "      <td>4</td>\n",
       "      <td>187</td>\n",
       "    </tr>\n",
       "    <tr>\n",
       "      <th>187</th>\n",
       "      <td>188</td>\n",
       "      <td>Central African Republic</td>\n",
       "      <td>0.404</td>\n",
       "      <td>53.8947</td>\n",
       "      <td>8.040172</td>\n",
       "      <td>4.334000</td>\n",
       "      <td>966.058611</td>\n",
       "      <td>1</td>\n",
       "      <td>188</td>\n",
       "    </tr>\n",
       "    <tr>\n",
       "      <th>188</th>\n",
       "      <td>189</td>\n",
       "      <td>Niger</td>\n",
       "      <td>0.400</td>\n",
       "      <td>61.5763</td>\n",
       "      <td>6.957112</td>\n",
       "      <td>2.116717</td>\n",
       "      <td>1239.866936</td>\n",
       "      <td>-3</td>\n",
       "      <td>189</td>\n",
       "    </tr>\n",
       "    <tr>\n",
       "      <th>189</th>\n",
       "      <td>190</td>\n",
       "      <td>Chad</td>\n",
       "      <td>0.394</td>\n",
       "      <td>52.5254</td>\n",
       "      <td>8.035914</td>\n",
       "      <td>2.573774</td>\n",
       "      <td>1364.169417</td>\n",
       "      <td>-7</td>\n",
       "      <td>190</td>\n",
       "    </tr>\n",
       "    <tr>\n",
       "      <th>190</th>\n",
       "      <td>191</td>\n",
       "      <td>South Sudan</td>\n",
       "      <td>0.385</td>\n",
       "      <td>54.9752</td>\n",
       "      <td>5.542510</td>\n",
       "      <td>5.726140</td>\n",
       "      <td>767.787000</td>\n",
       "      <td>-1</td>\n",
       "      <td>191</td>\n",
       "    </tr>\n",
       "  </tbody>\n",
       "</table>\n",
       "<p>191 rows × 9 columns</p>\n",
       "</div>"
      ],
      "text/plain": [
       "     rank          country_name_hdi  Human Development Index (HDI)   life_exp  \\\n",
       "0       1               Switzerland                           0.962   83.9872   \n",
       "1       2                    Norway                           0.961   83.2339   \n",
       "2       3                   Iceland                           0.959   82.6782   \n",
       "3       4    Hong Kong, China (SAR)                           0.952   85.4734   \n",
       "4       5                 Australia                           0.951   84.5265   \n",
       "..    ...                       ...                             ...       ...   \n",
       "186   187                   Burundi                           0.426   61.6627   \n",
       "187   188  Central African Republic                           0.404   53.8947   \n",
       "188   189                     Niger                           0.400   61.5763   \n",
       "189   190                      Chad                           0.394   52.5254   \n",
       "190   191               South Sudan                           0.385   54.9752   \n",
       "\n",
       "     exp_years_of_school  mean_years_of_school           gni  gni_minus_hdi  \\\n",
       "0              16.500299             13.859660  66933.004540              5   \n",
       "1              18.185200             13.003630  64660.106220              6   \n",
       "2              19.163059             13.767170  55782.049810             11   \n",
       "3              17.278170             12.226210  62606.845400              6   \n",
       "4              21.054590             12.726820  49238.433350             18   \n",
       "..                   ...                   ...           ...            ...   \n",
       "186            10.722722              3.129267    731.786709              4   \n",
       "187             8.040172              4.334000    966.058611              1   \n",
       "188             6.957112              2.116717   1239.866936             -3   \n",
       "189             8.035914              2.573774   1364.169417             -7   \n",
       "190             5.542510              5.726140    767.787000             -1   \n",
       "\n",
       "     old_hdi  \n",
       "0          3  \n",
       "1          1  \n",
       "2          2  \n",
       "3          4  \n",
       "4          5  \n",
       "..       ...  \n",
       "186      187  \n",
       "187      188  \n",
       "188      189  \n",
       "189      190  \n",
       "190      191  \n",
       "\n",
       "[191 rows x 9 columns]"
      ]
     },
     "execution_count": 45,
     "metadata": {},
     "output_type": "execute_result"
    }
   ],
   "source": [
    "hdi = hdi.rename(columns={\"HDI rank\": \"rank\",\"Country\": \"country_name_hdi\", \"Human Development Index (HDI)\": \"hdi\", \"Life expectancy at birth\": 'life_exp', \"Expected years of schooling\": 'exp_years_of_school', \"Mean years of schooling\": 'mean_years_of_school', \"Gross national income (GNI) per capita\": 'gni', \"GNI per capita rank minus HDI rank\": 'gni_minus_hdi', \"Previous HDI rank\": 'old_hdi' })\n",
    "hdi"
   ]
  },
  {
   "cell_type": "code",
   "execution_count": 46,
   "id": "6a470921-170c-4b01-8007-921dbe358f54",
   "metadata": {},
   "outputs": [],
   "source": [
    "merge_full = pd.merge(merge, hdi, left_on='country_name_exp', right_on='country_name_hdi', \n",
    "                      how='inner')"
   ]
  },
  {
   "cell_type": "code",
   "execution_count": 57,
   "id": "24c8fa6e-6f30-45d4-9069-93674aeb5a7b",
   "metadata": {},
   "outputs": [
    {
     "data": {
      "text/plain": [
       "Index(['country_name_exp', 'country_code', 'year',\n",
       "       'Goods exports (BoP, current US$)', 'country_name_imp',\n",
       "       'Imports of goods, services and primary income (BoP, current US$)',\n",
       "       'country_name_gdp', 'GDP (current US$)', 'country_name_tar',\n",
       "       'Tariff rate, most favored nation, weighted mean, all products (%)',\n",
       "       'rank', 'country_name_hdi', 'Human Development Index (HDI) ',\n",
       "       'life_exp', 'exp_years_of_school', 'mean_years_of_school', 'gni',\n",
       "       'gni_minus_hdi', 'old_hdi'],\n",
       "      dtype='object')"
      ]
     },
     "execution_count": 57,
     "metadata": {},
     "output_type": "execute_result"
    }
   ],
   "source": [
    "merge_full.columns"
   ]
  },
  {
   "cell_type": "markdown",
   "id": "4857a7a4-9b12-4454-811a-3fa01a6471ff",
   "metadata": {},
   "source": [
    "# Database Time"
   ]
  },
  {
   "cell_type": "code",
   "execution_count": 48,
   "id": "323583ed-be48-47ea-9e75-3b1bd47041b3",
   "metadata": {},
   "outputs": [],
   "source": [
    "dbserver = psycopg2.connect(\n",
    "    host = 'postgres',\n",
    "    user = 'postgres',\n",
    "    password = POSTGRES_PASSWORD,\n",
    "    port = 5432\n",
    ")\n",
    "dbserver.autocommit = True"
   ]
  },
  {
   "cell_type": "code",
   "execution_count": 49,
   "id": "12b9b7fa-b61e-4003-9ff6-4c42ac5b9c14",
   "metadata": {},
   "outputs": [],
   "source": [
    "cursor = dbserver.cursor()"
   ]
  },
  {
   "cell_type": "code",
   "execution_count": 50,
   "id": "71be6295-1e94-47c0-9bf2-cd0dd58633c8",
   "metadata": {},
   "outputs": [],
   "source": [
    "try:\n",
    "    cursor.execute('CREATE DATABASE world')\n",
    "except:\n",
    "    cursor.execute('DROP DATABASE world')\n",
    "    cursor.execute('CREATE DATABASE world')"
   ]
  },
  {
   "cell_type": "code",
   "execution_count": 51,
   "id": "2d92c8fc-574e-4261-89da-3da92f64e37b",
   "metadata": {},
   "outputs": [],
   "source": [
    "engine = create_engine('postgresql+psycopg2://{user}:{password}@{host}:{port}/{db}'.format(\n",
    "    user = 'postgres',\n",
    "    password = POSTGRES_PASSWORD,\n",
    "    host = 'postgres',\n",
    "    port = 5432,\n",
    "    db = 'world'\n",
    "))"
   ]
  },
  {
   "cell_type": "code",
   "execution_count": 52,
   "id": "eff43841-a88a-42c0-a61f-ff08e9f2c84e",
   "metadata": {},
   "outputs": [],
   "source": [
    "### review if  I even need to merge every \n",
    "#worlddf.to_sql('world', con=engine, index=False, chunksize=1000, if_exists = 'replace')"
   ]
  },
  {
   "cell_type": "markdown",
   "id": "7dd8d2ef-80fa-4f50-ac33-4f90c786ad61",
   "metadata": {},
   "source": [
    "# DBDOCS"
   ]
  },
  {
   "cell_type": "code",
   "execution_count": 53,
   "id": "a0312567-3a09-43ae-b9cc-2814de40051c",
   "metadata": {},
   "outputs": [],
   "source": [
    "#for col in worlddf.columns:\n",
    "#    print(col, worlddf[col].dtype)\n",
    "\n",
    "## gives info for DBdocs"
   ]
  },
  {
   "cell_type": "markdown",
   "id": "b12b9c7d-b441-4841-8472-e54e10525920",
   "metadata": {},
   "source": [
    "# Dashboard"
   ]
  },
  {
   "cell_type": "code",
   "execution_count": 54,
   "id": "064bdbd6-691a-441d-8140-b9f2cddfe67d",
   "metadata": {},
   "outputs": [],
   "source": [
    "external_stylesheets = ['https://codepen.io/chriddyp/pen/bWLwgP.css']"
   ]
  },
  {
   "cell_type": "code",
   "execution_count": 55,
   "id": "3b788735-cd87-40fa-9f7e-340d8752a415",
   "metadata": {},
   "outputs": [
    {
     "data": {
      "text/html": [
       "\n",
       "        <iframe\n",
       "            width=\"100%\"\n",
       "            height=\"650\"\n",
       "            src=\"http://0.0.0.0:8050/\"\n",
       "            frameborder=\"0\"\n",
       "            allowfullscreen\n",
       "            \n",
       "        ></iframe>\n",
       "        "
      ],
      "text/plain": [
       "<IPython.lib.display.IFrame at 0x7f387ecfeed0>"
      ]
     },
     "metadata": {},
     "output_type": "display_data"
    }
   ],
   "source": [
    "app = dash.Dash(__name__, external_stylesheets=external_stylesheets)\n",
    "\n",
    "app.layout = html.Div(\n",
    "    [\n",
    "        ### Stuff on top\n",
    "        html.H1(\"Understand the Global Economy\"),\n",
    "        html.H2(\"Data collected from the World Bank and Human Development\"),\n",
    "        html.H3(\"DS 6600: Data Engineering 1, UVA Data Science, Semester Project\"),\n",
    "\n",
    "        #### Side Bar\n",
    "        html.Div([\n",
    "            dcc.Markdown(\"Please select a Country\"),\n",
    "            \n",
    "        ], style = {'width': '24%', 'float':'left'}),\n",
    "        \n",
    "        ### main bar\n",
    "        html.Div([\n",
    "            dcc.Tabs([\n",
    "                dcc.Tab(label = 'Imports', children = [\n",
    "                ]),\n",
    "                dcc.Tab(label = 'Exports', children = [\n",
    "                    ## pass\n",
    "                ]),\n",
    "                dcc.Tab(label = 'HDI', children = [\n",
    "                    ## pass\n",
    "                ]),\n",
    "                dcc.Tab(label = 'Location', children = [\n",
    "                    ## pass\n",
    "                ]),\n",
    "            ])\n",
    "        ], style = {'width':'74%', 'float':'right'})\n",
    "    ]\n",
    ")\n",
    "\n",
    "### operate on the next that appears\n",
    "#@app.callback([Output(component_id = 'biotable', component_property = 'figure')], \n",
    "#             [Input(component_id = 'member', component_property = 'value')])\n",
    "#\n",
    "#\n",
    "#\n",
    "#def biotable(b):\n",
    "#    myquery = f'''\n",
    "#    SELECT directordername AS Name,\n",
    "#        party AS Party,\n",
    "#        state AS State,\n",
    "#        CAST(district AS int) AS District,\n",
    "#        birthyear AS Birthyear,\n",
    "#        addressinformation_officeaddress AS Address,\n",
    "#        CONCAT(addressinformation_city, ', ', addressinformation_district) AS City,\n",
    "#        addressinformation_phonenumber AS Phone,\n",
    "#        addressinformation_zipcode AS Zipcode\n",
    "#    FROM members\n",
    "#    WHERE bioguideid='{b}'\n",
    "#    '''\n",
    "#    mydf = pd.read_sql_query(myquery, con=engine)\n",
    "#    mydf.columns = [x.capitalize() for x in mydf.columns]\n",
    "#    mydf = mydf.T.reset_index()\n",
    "#    mydf = mydf.rename({'index':'', 0:''}, axis=1)\n",
    "#    #print(\"here\")\n",
    "#    return [ff.create_table(mydf)]\n",
    "\n",
    "\n",
    "\n",
    "if __name__==\"__main__\":\n",
    "    app.run_server(mode='external', host = \"0.0.0.0\", port = 8050, debug=False)"
   ]
  },
  {
   "cell_type": "code",
   "execution_count": null,
   "id": "ba68e659-04bc-41d4-bbfb-6cf8603877f4",
   "metadata": {},
   "outputs": [],
   "source": []
  }
 ],
 "metadata": {
  "kernelspec": {
   "display_name": "Python 3 (ipykernel)",
   "language": "python",
   "name": "python3"
  },
  "language_info": {
   "codemirror_mode": {
    "name": "ipython",
    "version": 3
   },
   "file_extension": ".py",
   "mimetype": "text/x-python",
   "name": "python",
   "nbconvert_exporter": "python",
   "pygments_lexer": "ipython3",
   "version": "3.11.4"
  }
 },
 "nbformat": 4,
 "nbformat_minor": 5
}
